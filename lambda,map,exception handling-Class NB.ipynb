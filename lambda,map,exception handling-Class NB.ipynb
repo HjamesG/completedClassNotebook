{
 "cells": [
  {
   "cell_type": "markdown",
   "id": "ad6b391a",
   "metadata": {},
   "source": [
    "### Lambda Function\n",
    "- A lambda function is a small anonymous function.\n",
    "\n",
    "- A lambda function can take any number of arguments, but can only have one expression."
   ]
  },
  {
   "cell_type": "markdown",
   "id": "4acee15b",
   "metadata": {},
   "source": [
    "### if you use a Python lambda construction `lambda argument(s) : expression`\n",
    "- lambda is a keyword in Python for defining the anonymous function.\n",
    "- argument(s) is a placeholder, that is a variable that will be used to hold the value you want to pass into the function expression. A lambda function can have multiple variables depending on what you want to achieve.\n",
    "= expression is the code you want to execute in the lambda function."
   ]
  },
  {
   "cell_type": "code",
   "execution_count": 4,
   "id": "f41a1aaf",
   "metadata": {},
   "outputs": [
    {
     "data": {
      "text/plain": [
       "4"
      ]
     },
     "execution_count": 4,
     "metadata": {},
     "output_type": "execute_result"
    }
   ],
   "source": [
    "def Identity(x):\n",
    "    return x\n",
    "Identity(4)"
   ]
  },
  {
   "cell_type": "code",
   "execution_count": 7,
   "id": "1b8b22dd",
   "metadata": {},
   "outputs": [
    {
     "data": {
      "text/plain": [
       "2"
      ]
     },
     "execution_count": 7,
     "metadata": {},
     "output_type": "execute_result"
    }
   ],
   "source": [
    "# function argument: return\n",
    "(lambda x: x)(2)"
   ]
  },
  {
   "cell_type": "code",
   "execution_count": 8,
   "id": "2127b54f",
   "metadata": {},
   "outputs": [
    {
     "data": {
      "text/plain": [
       "6"
      ]
     },
     "execution_count": 8,
     "metadata": {},
     "output_type": "execute_result"
    }
   ],
   "source": [
    "(lambda x: x+1)(5)"
   ]
  },
  {
   "cell_type": "code",
   "execution_count": 9,
   "id": "58ce4f61",
   "metadata": {},
   "outputs": [
    {
     "data": {
      "text/plain": [
       "900.0"
      ]
     },
     "execution_count": 9,
     "metadata": {},
     "output_type": "execute_result"
    }
   ],
   "source": [
    "import math\n",
    "(lambda y: math.pow(y,2))(30)"
   ]
  },
  {
   "cell_type": "code",
   "execution_count": 10,
   "id": "5fd986c1",
   "metadata": {},
   "outputs": [
    {
     "data": {
      "text/plain": [
       "49"
      ]
     },
     "execution_count": 10,
     "metadata": {},
     "output_type": "execute_result"
    }
   ],
   "source": [
    "# as lambda is an expression, it can be named or stored to a variable\n",
    "add_two = (lambda x: x+2)\n",
    "add_two(47)"
   ]
  },
  {
   "cell_type": "markdown",
   "id": "9cdbed87",
   "metadata": {},
   "source": [
    "### Common Use Cases for Lambda Functions\n",
    "- Lambda Function often use with Iterables\n",
    "- An iterable is essentially anything that consists of a series of values, such as characters, numbers, and so on.\n",
    "\n",
    "- In Python, iterables include strings, lists, dictionaries, ranges, tuples, and so on. \n",
    "- When working with iterables, you can use lambda functions in conjunction with two common functions: `filter()` and `map()`."
   ]
  },
  {
   "cell_type": "markdown",
   "id": "22f9e9de",
   "metadata": {},
   "source": [
    "#### Filter()\n",
    "- When you want to focus on specific values in an iterable, you can use the filter function. The following is the syntax of a filter function:\n",
    "- example, say I have a list such as [1, 2, 3, 4, 5, 6, 7, 8, 9, 10]. Now let's say that I’m only interested in those values in that list that have a remainder of 0 when divided by 2. I can make use of filter()"
   ]
  },
  {
   "cell_type": "code",
   "execution_count": 13,
   "id": "124d83b4",
   "metadata": {},
   "outputs": [
    {
     "data": {
      "text/plain": [
       "[2, 4, 6, 8, 10]"
      ]
     },
     "execution_count": 13,
     "metadata": {},
     "output_type": "execute_result"
    }
   ],
   "source": [
    "list1 = [1, 2, 3, 4, 5, 6, 7, 8, 9, 10]\n",
    "\n",
    "# filter the values in a list that are divisible by 2\n",
    "list(filter(lambda x: x%2==0, list1))"
   ]
  },
  {
   "cell_type": "code",
   "execution_count": 15,
   "id": "387475c3",
   "metadata": {},
   "outputs": [
    {
     "data": {
      "text/plain": [
       "[1, 3, 5, 7, 9]"
      ]
     },
     "execution_count": 15,
     "metadata": {},
     "output_type": "execute_result"
    }
   ],
   "source": [
    "# generate a list of odd numbers using filter and lambda\n",
    "list(filter(lambda x: x%2==1, list1))"
   ]
  },
  {
   "cell_type": "code",
   "execution_count": 16,
   "id": "b8eaa1f4",
   "metadata": {},
   "outputs": [
    {
     "data": {
      "text/plain": [
       "[3, 6, 9]"
      ]
     },
     "execution_count": 16,
     "metadata": {},
     "output_type": "execute_result"
    }
   ],
   "source": [
    "# filter out the values divisible by 3\n",
    "list(filter(lambda x: x%3==0, list1))"
   ]
  },
  {
   "cell_type": "markdown",
   "id": "20c91164",
   "metadata": {},
   "source": [
    "#### Map() You use the map() function whenever you want to modify every value in an iterable.\n",
    "map(function, iterable)"
   ]
  },
  {
   "cell_type": "code",
   "execution_count": 17,
   "id": "3c824636",
   "metadata": {},
   "outputs": [
    {
     "data": {
      "text/plain": [
       "[1.0, 8.0, 27.0, 64.0, 125.0, 216.0, 343.0, 512.0, 729.0, 1000.0]"
      ]
     },
     "execution_count": 17,
     "metadata": {},
     "output_type": "execute_result"
    }
   ],
   "source": [
    "list1 = [1, 2, 3, 4, 5, 6, 7, 8, 9, 10]\n",
    "list(map(lambda x: math.pow(x,3), list1))"
   ]
  },
  {
   "cell_type": "code",
   "execution_count": 19,
   "id": "3e193dc9",
   "metadata": {},
   "outputs": [
    {
     "data": {
      "text/plain": [
       "[1.0, 32.0, 243.0, 1024.0, 3125.0, 7776.0, 16807.0, 32768.0, 59049.0, 100000.0]"
      ]
     },
     "execution_count": 19,
     "metadata": {},
     "output_type": "execute_result"
    }
   ],
   "source": [
    "list(map(lambda x: math.pow(x,5), list1))"
   ]
  },
  {
   "cell_type": "markdown",
   "id": "540a7ddb",
   "metadata": {},
   "source": [
    "### Examples"
   ]
  },
  {
   "cell_type": "code",
   "execution_count": 20,
   "id": "259b4644",
   "metadata": {},
   "outputs": [
    {
     "data": {
      "text/plain": [
       "6"
      ]
     },
     "execution_count": 20,
     "metadata": {},
     "output_type": "execute_result"
    }
   ],
   "source": [
    "(lambda x, y, z: x+y+z)(1,2,3)"
   ]
  },
  {
   "cell_type": "code",
   "execution_count": 21,
   "id": "7051e624",
   "metadata": {},
   "outputs": [
    {
     "data": {
      "text/plain": [
       "8"
      ]
     },
     "execution_count": 21,
     "metadata": {},
     "output_type": "execute_result"
    }
   ],
   "source": [
    "(lambda x, y, z=4: x*y*z)(1,2)"
   ]
  },
  {
   "cell_type": "code",
   "execution_count": 23,
   "id": "e8cad207",
   "metadata": {},
   "outputs": [
    {
     "data": {
      "text/plain": [
       "15"
      ]
     },
     "execution_count": 23,
     "metadata": {},
     "output_type": "execute_result"
    }
   ],
   "source": [
    "(lambda *args: sum(args))(1,2,3,4,5)"
   ]
  },
  {
   "cell_type": "markdown",
   "id": "4c230a26",
   "metadata": {},
   "source": [
    "### Exception handling"
   ]
  },
  {
   "cell_type": "code",
   "execution_count": 24,
   "id": "532e4fa7",
   "metadata": {},
   "outputs": [
    {
     "ename": "ZeroDivisionError",
     "evalue": "division by zero",
     "output_type": "error",
     "traceback": [
      "\u001b[0;31m---------------------------------------------------------------------------\u001b[0m",
      "\u001b[0;31mZeroDivisionError\u001b[0m                         Traceback (most recent call last)",
      "Cell \u001b[0;32mIn[24], line 1\u001b[0m\n\u001b[0;32m----> 1\u001b[0m \u001b[38;5;28mprint\u001b[39m(\u001b[38;5;241m5\u001b[39m\u001b[38;5;241m/\u001b[39m\u001b[38;5;241m0\u001b[39m)\n",
      "\u001b[0;31mZeroDivisionError\u001b[0m: division by zero"
     ]
    }
   ],
   "source": [
    "print(5/0)"
   ]
  },
  {
   "cell_type": "code",
   "execution_count": 28,
   "id": "d9fcd153",
   "metadata": {},
   "outputs": [],
   "source": [
    "def function1(x,y):\n",
    "    try:\n",
    "        c = (x+y)/(x-y)\n",
    "        print(c)\n",
    "    except:\n",
    "        print(\"The result is a zero division error\")"
   ]
  },
  {
   "cell_type": "code",
   "execution_count": 31,
   "id": "1ea2a63c",
   "metadata": {},
   "outputs": [
    {
     "name": "stdout",
     "output_type": "stream",
     "text": [
      "5.0\n"
     ]
    }
   ],
   "source": [
    "function1(3,2)"
   ]
  },
  {
   "cell_type": "code",
   "execution_count": 32,
   "id": "0ac78801",
   "metadata": {},
   "outputs": [
    {
     "name": "stdout",
     "output_type": "stream",
     "text": [
      "The result is a zero division error\n"
     ]
    }
   ],
   "source": [
    "function1(3,3)"
   ]
  },
  {
   "cell_type": "code",
   "execution_count": 33,
   "id": "7c9bbc8d",
   "metadata": {},
   "outputs": [
    {
     "ename": "TypeError",
     "evalue": "unsupported operand type(s) for +: 'int' and 'str'",
     "output_type": "error",
     "traceback": [
      "\u001b[0;31m---------------------------------------------------------------------------\u001b[0m",
      "\u001b[0;31mTypeError\u001b[0m                                 Traceback (most recent call last)",
      "Cell \u001b[0;32mIn[33], line 4\u001b[0m\n\u001b[1;32m      2\u001b[0m x \u001b[38;5;241m=\u001b[39m \u001b[38;5;241m5\u001b[39m\n\u001b[1;32m      3\u001b[0m y \u001b[38;5;241m=\u001b[39m \u001b[38;5;124m\"\u001b[39m\u001b[38;5;124mHello\u001b[39m\u001b[38;5;124m\"\u001b[39m\n\u001b[0;32m----> 4\u001b[0m z \u001b[38;5;241m=\u001b[39m x\u001b[38;5;241m+\u001b[39my\n",
      "\u001b[0;31mTypeError\u001b[0m: unsupported operand type(s) for +: 'int' and 'str'"
     ]
    }
   ],
   "source": [
    "# Example 2\n",
    "x = 5\n",
    "y = \"Hello\"\n",
    "z = x+y"
   ]
  },
  {
   "cell_type": "code",
   "execution_count": 34,
   "id": "edcaa29b",
   "metadata": {},
   "outputs": [
    {
     "name": "stdout",
     "output_type": "stream",
     "text": [
      "Error\n"
     ]
    }
   ],
   "source": [
    "x = 5\n",
    "y = \"Hello\"\n",
    "try:  \n",
    "    z = x+y\n",
    "except:\n",
    "    print(\"Error message\")"
   ]
  },
  {
   "cell_type": "code",
   "execution_count": 35,
   "id": "41944c98",
   "metadata": {},
   "outputs": [
    {
     "name": "stdout",
     "output_type": "stream",
     "text": [
      "The second element:  2\n",
      "Index out of bounds exception\n"
     ]
    }
   ],
   "source": [
    "list2 = [1,2,3]\n",
    "try:\n",
    "    print(\"The second element: \", list2[1])\n",
    "    print(\"The fourth element: \", list2[3])\n",
    "except:\n",
    "    print(\"Index out of bounds error\")"
   ]
  }
 ],
 "metadata": {
  "kernelspec": {
   "display_name": "Python 3 (ipykernel)",
   "language": "python",
   "name": "python3"
  },
  "language_info": {
   "codemirror_mode": {
    "name": "ipython",
    "version": 3
   },
   "file_extension": ".py",
   "mimetype": "text/x-python",
   "name": "python",
   "nbconvert_exporter": "python",
   "pygments_lexer": "ipython3",
   "version": "3.11.4"
  }
 },
 "nbformat": 4,
 "nbformat_minor": 5
}
