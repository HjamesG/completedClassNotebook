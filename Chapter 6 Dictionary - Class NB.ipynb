{
 "cells": [
  {
   "cell_type": "markdown",
   "id": "73943399",
   "metadata": {},
   "source": [
    "# 6. Working with Dictionaries\n",
    "* A dictionary in Python is a collection of key-value pairs. \n",
    "* Each key is connected to a value, and you can use a key to access the value associated with that key.\n",
    "* A key’s value can be a number, a string, a list, or even another dictionary.\n",
    "\n",
    "* `Key` is the unique identifier to find data and the `value` is the data\n",
    "\n",
    "* A dictionary is a collection which is ordered*, changeable and does not allow duplicates.\n",
    "\n",
    "* Unlike strings, lists, and tuples, **dictionaries are not sequences** - the data are not stored in order. \n",
    "* List can be represented by [ ], Tuple can be represented by ( ), Dictionary  can be represented by { }"
   ]
  },
  {
   "cell_type": "code",
   "execution_count": 75,
   "id": "05999d3a",
   "metadata": {},
   "outputs": [
    {
     "data": {
      "text/plain": [
       "dict"
      ]
     },
     "execution_count": 75,
     "metadata": {},
     "output_type": "execute_result"
    }
   ],
   "source": [
    "#Emppty dictionary\n",
    "Dict = {}\n",
    "type(Dict)"
   ]
  },
  {
   "cell_type": "code",
   "execution_count": 76,
   "id": "88e3e9ba",
   "metadata": {},
   "outputs": [
    {
     "data": {
      "text/plain": [
       "dict"
      ]
     },
     "execution_count": 76,
     "metadata": {},
     "output_type": "execute_result"
    }
   ],
   "source": [
    "dict1 = dict()\n",
    "type(dict1)"
   ]
  },
  {
   "cell_type": "code",
   "execution_count": 77,
   "id": "5d25b2cb",
   "metadata": {},
   "outputs": [],
   "source": [
    "data = {'Alabama':'Montgomery', \n",
    "        'Arizona': 'Pheonix', \n",
    "        'Georgia': 'Atlanta', \n",
    "        'Kentucky': 'Frankfort', \n",
    "        'Ohio': 'Columbus'}"
   ]
  },
  {
   "cell_type": "markdown",
   "id": "4be8c616",
   "metadata": {},
   "source": [
    "### Access `values` from a dictionary using key\n",
    "* Key and values can be any data types\n",
    "* Accessing key value not present in dictionary generated KeyError"
   ]
  },
  {
   "cell_type": "code",
   "execution_count": 78,
   "id": "aab3f949",
   "metadata": {},
   "outputs": [
    {
     "data": {
      "text/plain": [
       "'Columbus'"
      ]
     },
     "execution_count": 78,
     "metadata": {},
     "output_type": "execute_result"
    }
   ],
   "source": [
    "data[\"Ohio\"]"
   ]
  },
  {
   "cell_type": "code",
   "execution_count": 79,
   "id": "fe9e3886",
   "metadata": {},
   "outputs": [
    {
     "data": {
      "text/plain": [
       "'Atlanta'"
      ]
     },
     "execution_count": 79,
     "metadata": {},
     "output_type": "execute_result"
    }
   ],
   "source": [
    "data[\"Georgia\"]"
   ]
  },
  {
   "cell_type": "code",
   "execution_count": 80,
   "id": "e4eb565d",
   "metadata": {},
   "outputs": [],
   "source": [
    "# data[\"New York\"]\n",
    "# Generates a key error if the key is not present in the dictionary."
   ]
  },
  {
   "cell_type": "code",
   "execution_count": null,
   "id": "c7dae653",
   "metadata": {},
   "outputs": [],
   "source": []
  },
  {
   "cell_type": "markdown",
   "id": "bc6af6fc",
   "metadata": {},
   "source": [
    "### Update elements of a dictionary and add new elements"
   ]
  },
  {
   "cell_type": "code",
   "execution_count": 81,
   "id": "f62f227f",
   "metadata": {},
   "outputs": [],
   "source": [
    "day = {1: 'Monday', \n",
    "       2: 'Tuesday', \n",
    "       4: ('Thursday', 'Friday'), \n",
    "       5: ['Saturday', 'Sunday']}"
   ]
  },
  {
   "cell_type": "code",
   "execution_count": 82,
   "id": "560dd19f",
   "metadata": {},
   "outputs": [
    {
     "data": {
      "text/plain": [
       "'Thursday'"
      ]
     },
     "execution_count": 82,
     "metadata": {},
     "output_type": "execute_result"
    }
   ],
   "source": [
    "# Access thursday day[key][index]\n",
    "day[4][0]"
   ]
  },
  {
   "cell_type": "code",
   "execution_count": 83,
   "id": "7f07b100",
   "metadata": {},
   "outputs": [
    {
     "data": {
      "text/plain": [
       "'Sunday'"
      ]
     },
     "execution_count": 83,
     "metadata": {},
     "output_type": "execute_result"
    }
   ],
   "source": [
    "# Access Sunday\n",
    "day[5][1]"
   ]
  },
  {
   "cell_type": "code",
   "execution_count": 84,
   "id": "e30ad316",
   "metadata": {},
   "outputs": [],
   "source": [
    "day[3] = 'Wednesday'"
   ]
  },
  {
   "cell_type": "code",
   "execution_count": 85,
   "id": "f15aef45",
   "metadata": {},
   "outputs": [
    {
     "name": "stdout",
     "output_type": "stream",
     "text": [
      "{1: 'Monday', 2: 'Tuesday', 4: ('Thursday', 'Friday'), 5: ['Saturday', 'Sunday'], 3: 'Wednesday'}\n"
     ]
    }
   ],
   "source": [
    "print(day)"
   ]
  },
  {
   "cell_type": "code",
   "execution_count": 86,
   "id": "12860b8d",
   "metadata": {
    "scrolled": true
   },
   "outputs": [
    {
     "data": {
      "text/plain": [
       "{1: 'Monday',\n",
       " 2: 'Tuesday',\n",
       " 4: ('Thursday', 'Friday'),\n",
       " 5: ['Holiday', 'Sunday'],\n",
       " 3: 'Wednesday'}"
      ]
     },
     "execution_count": 86,
     "metadata": {},
     "output_type": "execute_result"
    }
   ],
   "source": [
    "# Update saturday to a holiday\n",
    "day[5][0] = 'Holiday'\n",
    "day"
   ]
  },
  {
   "cell_type": "code",
   "execution_count": 87,
   "id": "347ad868",
   "metadata": {},
   "outputs": [
    {
     "data": {
      "text/plain": [
       "{1: 'Monday',\n",
       " 2: 'Tuesday',\n",
       " 4: ('Thursday', 'Friday'),\n",
       " 5: ['Holiday', 'Holiday'],\n",
       " 3: 'Wednesday'}"
      ]
     },
     "execution_count": 87,
     "metadata": {},
     "output_type": "execute_result"
    }
   ],
   "source": [
    "# Update sunday to a holiday\n",
    "day[5][1] = 'Holiday'\n",
    "day"
   ]
  },
  {
   "cell_type": "code",
   "execution_count": 88,
   "id": "04bfea28",
   "metadata": {},
   "outputs": [
    {
     "ename": "TypeError",
     "evalue": "'tuple' object does not support item assignment",
     "output_type": "error",
     "traceback": [
      "\u001b[0;31m---------------------------------------------------------------------------\u001b[0m",
      "\u001b[0;31mTypeError\u001b[0m                                 Traceback (most recent call last)",
      "Cell \u001b[0;32mIn[88], line 2\u001b[0m\n\u001b[1;32m      1\u001b[0m \u001b[38;5;66;03m# Update thursday to a holiday\u001b[39;00m\n\u001b[0;32m----> 2\u001b[0m day[\u001b[38;5;241m4\u001b[39m][\u001b[38;5;241m0\u001b[39m] \u001b[38;5;241m=\u001b[39m \u001b[38;5;124m'\u001b[39m\u001b[38;5;124mHoliday\u001b[39m\u001b[38;5;124m'\u001b[39m \u001b[38;5;66;03m# Cannot update a tuple\u001b[39;00m\n\u001b[1;32m      3\u001b[0m day\n",
      "\u001b[0;31mTypeError\u001b[0m: 'tuple' object does not support item assignment"
     ]
    }
   ],
   "source": [
    "# Update thursday to a holiday\n",
    "day[4][0] = 'Holiday' # Cannot update a tuple\n",
    "day"
   ]
  },
  {
   "cell_type": "markdown",
   "id": "f7bb990f",
   "metadata": {},
   "source": [
    "### `get` and `update` methods\n",
    "- 'get' used to access a value from dictionary\n",
    "- 'update' updates the dictionary with new value and also updates the old value"
   ]
  },
  {
   "cell_type": "code",
   "execution_count": 89,
   "id": "071c6f12",
   "metadata": {},
   "outputs": [
    {
     "data": {
      "text/plain": [
       "'Wednesday'"
      ]
     },
     "execution_count": 89,
     "metadata": {},
     "output_type": "execute_result"
    }
   ],
   "source": [
    "# return wednesday\n",
    "day.get(3)"
   ]
  },
  {
   "cell_type": "code",
   "execution_count": 90,
   "id": "10cd3add",
   "metadata": {},
   "outputs": [
    {
     "data": {
      "text/plain": [
       "'Monday'"
      ]
     },
     "execution_count": 90,
     "metadata": {},
     "output_type": "execute_result"
    }
   ],
   "source": [
    "# access monday\n",
    "day.get(1)"
   ]
  },
  {
   "cell_type": "code",
   "execution_count": 91,
   "id": "afdf81cb",
   "metadata": {},
   "outputs": [],
   "source": [
    "# Doesn't generate an error if the key is not present\n",
    "day.get(6)"
   ]
  },
  {
   "cell_type": "code",
   "execution_count": 92,
   "id": "c99acf1a",
   "metadata": {},
   "outputs": [],
   "source": [
    "#day[6] # generates an error "
   ]
  },
  {
   "cell_type": "code",
   "execution_count": 93,
   "id": "4f837a99",
   "metadata": {},
   "outputs": [
    {
     "data": {
      "text/plain": [
       "{1: 'Monday',\n",
       " 2: 'Tuesday',\n",
       " 4: ('Thursday', 'Friday'),\n",
       " 5: ['Holiday', 'Holiday'],\n",
       " 3: 'Wednesday'}"
      ]
     },
     "execution_count": 93,
     "metadata": {},
     "output_type": "execute_result"
    }
   ],
   "source": [
    "day"
   ]
  },
  {
   "cell_type": "code",
   "execution_count": 94,
   "id": "e4f9533f",
   "metadata": {},
   "outputs": [
    {
     "data": {
      "text/plain": [
       "{'Alabama': 'Montgomery',\n",
       " 'Arizona': 'Pheonix',\n",
       " 'Georgia': 'Atlanta',\n",
       " 'Kentucky': 'Frankfort',\n",
       " 'Ohio': 'Columbus'}"
      ]
     },
     "execution_count": 94,
     "metadata": {},
     "output_type": "execute_result"
    }
   ],
   "source": [
    "data"
   ]
  },
  {
   "cell_type": "code",
   "execution_count": 95,
   "id": "6a5467b2",
   "metadata": {},
   "outputs": [
    {
     "data": {
      "text/plain": [
       "{'Alabama': 'Montgomery',\n",
       " 'Arizona': 'Pheonix',\n",
       " 'Georgia': 'Atlanta',\n",
       " 'Kentucky': 'Louisville',\n",
       " 'Ohio': 'Columbus'}"
      ]
     },
     "execution_count": 95,
     "metadata": {},
     "output_type": "execute_result"
    }
   ],
   "source": [
    "# Updates old value\n",
    "data.update({\"Kentucky\":\"Louisville\"})\n",
    "data"
   ]
  },
  {
   "cell_type": "code",
   "execution_count": 96,
   "id": "59fbf8d0",
   "metadata": {},
   "outputs": [
    {
     "data": {
      "text/plain": [
       "{'Alabama': 'Montgomery',\n",
       " 'Arizona': 'Pheonix',\n",
       " 'Georgia': 'Atlanta',\n",
       " 'Kentucky': 'Louisville',\n",
       " 'Ohio': 'Columbus',\n",
       " 'Louisiana': 'Baton Rouge'}"
      ]
     },
     "execution_count": 96,
     "metadata": {},
     "output_type": "execute_result"
    }
   ],
   "source": [
    "# Makes new value\n",
    "data.update({\"Louisiana\":\"Baton Rouge\"})\n",
    "data"
   ]
  },
  {
   "cell_type": "code",
   "execution_count": 97,
   "id": "02f74f55",
   "metadata": {},
   "outputs": [
    {
     "data": {
      "text/plain": [
       "{'Alabama': 'Montgomery',\n",
       " 'Arizona': 'Pheonix',\n",
       " 'Georgia': 'Atlanta',\n",
       " 'Kentucky': 'Frankfort',\n",
       " 'Ohio': 'Columbus',\n",
       " 'Louisiana': 'Baton Rouge',\n",
       " 'Missouri': 'Jefferson City'}"
      ]
     },
     "execution_count": 97,
     "metadata": {},
     "output_type": "execute_result"
    }
   ],
   "source": [
    "# Updates and adds\n",
    "data.update({\"Missouri\":\"Jefferson City\", \"Kentucky\": \"Frankfort\"})\n",
    "data"
   ]
  },
  {
   "cell_type": "markdown",
   "id": "18536626",
   "metadata": {},
   "source": [
    "### Delete dictionary items using `del` and `pop`"
   ]
  },
  {
   "cell_type": "code",
   "execution_count": 98,
   "id": "ebc3b904",
   "metadata": {},
   "outputs": [
    {
     "data": {
      "text/plain": [
       "{'Arizona': 'Pheonix',\n",
       " 'Georgia': 'Atlanta',\n",
       " 'Kentucky': 'Frankfort',\n",
       " 'Ohio': 'Columbus',\n",
       " 'Louisiana': 'Baton Rouge',\n",
       " 'Missouri': 'Jefferson City'}"
      ]
     },
     "execution_count": 98,
     "metadata": {},
     "output_type": "execute_result"
    }
   ],
   "source": [
    "# delete alabama entery using del method\n",
    "del data['Alabama']\n",
    "data"
   ]
  },
  {
   "cell_type": "code",
   "execution_count": 99,
   "id": "fc64b2ed",
   "metadata": {},
   "outputs": [
    {
     "data": {
      "text/plain": [
       "'Columbus'"
      ]
     },
     "execution_count": 99,
     "metadata": {},
     "output_type": "execute_result"
    }
   ],
   "source": [
    "# delete ohio using pop\n",
    "data.pop(\"Ohio\")"
   ]
  },
  {
   "cell_type": "code",
   "execution_count": 100,
   "id": "e3993e4c",
   "metadata": {},
   "outputs": [
    {
     "data": {
      "text/plain": [
       "{'Arizona': 'Pheonix',\n",
       " 'Georgia': 'Atlanta',\n",
       " 'Kentucky': 'Frankfort',\n",
       " 'Louisiana': 'Baton Rouge',\n",
       " 'Missouri': 'Jefferson City'}"
      ]
     },
     "execution_count": 100,
     "metadata": {},
     "output_type": "execute_result"
    }
   ],
   "source": [
    "data"
   ]
  },
  {
   "cell_type": "code",
   "execution_count": 101,
   "id": "312e8cb2",
   "metadata": {},
   "outputs": [],
   "source": [
    "# Delete the dictionary \n",
    "del data"
   ]
  },
  {
   "cell_type": "code",
   "execution_count": 103,
   "id": "725046f1",
   "metadata": {},
   "outputs": [],
   "source": [
    "# Name error as the dictionary no present any more\n",
    "#data"
   ]
  },
  {
   "cell_type": "markdown",
   "id": "610aae76",
   "metadata": {},
   "source": [
    "### Number of elements in the dictionary and extracting `keys()`, `values()`, `items()`"
   ]
  },
  {
   "cell_type": "code",
   "execution_count": 105,
   "id": "f13bd3ba",
   "metadata": {},
   "outputs": [],
   "source": [
    "data = {'Alabama':'Montgomery', \n",
    "        'Arizona': 'Pheonix', \n",
    "        'Georgia': 'Atlanta', \n",
    "        'Kentucky': 'Frankfort', \n",
    "        'Ohio': 'Columbus'}"
   ]
  },
  {
   "cell_type": "code",
   "execution_count": 106,
   "id": "1d31365f",
   "metadata": {},
   "outputs": [
    {
     "data": {
      "text/plain": [
       "dict_keys(['Alabama', 'Arizona', 'Georgia', 'Kentucky', 'Ohio'])"
      ]
     },
     "execution_count": 106,
     "metadata": {},
     "output_type": "execute_result"
    }
   ],
   "source": [
    "data.keys()"
   ]
  },
  {
   "cell_type": "code",
   "execution_count": 107,
   "id": "0db183c4",
   "metadata": {},
   "outputs": [
    {
     "data": {
      "text/plain": [
       "dict_values(['Montgomery', 'Pheonix', 'Atlanta', 'Frankfort', 'Columbus'])"
      ]
     },
     "execution_count": 107,
     "metadata": {},
     "output_type": "execute_result"
    }
   ],
   "source": [
    "data.values()"
   ]
  },
  {
   "cell_type": "code",
   "execution_count": 108,
   "id": "a1c19204",
   "metadata": {},
   "outputs": [
    {
     "data": {
      "text/plain": [
       "dict_items([('Alabama', 'Montgomery'), ('Arizona', 'Pheonix'), ('Georgia', 'Atlanta'), ('Kentucky', 'Frankfort'), ('Ohio', 'Columbus')])"
      ]
     },
     "execution_count": 108,
     "metadata": {},
     "output_type": "execute_result"
    }
   ],
   "source": [
    "data.items()"
   ]
  },
  {
   "cell_type": "markdown",
   "id": "ab9e78f2",
   "metadata": {},
   "source": [
    "### Loop through a dictionary"
   ]
  },
  {
   "cell_type": "code",
   "execution_count": 116,
   "id": "941bf04e",
   "metadata": {},
   "outputs": [
    {
     "name": "stdout",
     "output_type": "stream",
     "text": [
      "Alabama\n",
      "<class 'str'>\n",
      "Arizona\n",
      "<class 'str'>\n",
      "Georgia\n",
      "<class 'str'>\n",
      "Kentucky\n",
      "<class 'str'>\n",
      "Ohio\n",
      "<class 'str'>\n"
     ]
    }
   ],
   "source": [
    "for i in data.keys():\n",
    "    print(i)\n",
    "    print(type(i))"
   ]
  },
  {
   "cell_type": "code",
   "execution_count": 117,
   "id": "fe239e39",
   "metadata": {},
   "outputs": [
    {
     "name": "stdout",
     "output_type": "stream",
     "text": [
      "Montgomery\n",
      "Pheonix\n",
      "Atlanta\n",
      "Frankfort\n",
      "Columbus\n"
     ]
    }
   ],
   "source": [
    "# Unpack the dictionary values\n",
    "for j in data.values():\n",
    "    print(j)"
   ]
  },
  {
   "cell_type": "code",
   "execution_count": 120,
   "id": "c0746d46",
   "metadata": {},
   "outputs": [
    {
     "name": "stdout",
     "output_type": "stream",
     "text": [
      "('Alabama', 'Montgomery')\n",
      "<class 'tuple'>\n",
      "('Arizona', 'Pheonix')\n",
      "<class 'tuple'>\n",
      "('Georgia', 'Atlanta')\n",
      "<class 'tuple'>\n",
      "('Kentucky', 'Frankfort')\n",
      "<class 'tuple'>\n",
      "('Ohio', 'Columbus')\n",
      "<class 'tuple'>\n"
     ]
    }
   ],
   "source": [
    "# Dictionary items\n",
    "for k in data.items():\n",
    "    print(k)\n",
    "    print(type(k))"
   ]
  },
  {
   "cell_type": "code",
   "execution_count": 125,
   "id": "e07995b1",
   "metadata": {},
   "outputs": [
    {
     "name": "stdout",
     "output_type": "stream",
     "text": [
      "  State:  Alabama\n",
      "Capital:  Montgomery\n",
      "  State:  Arizona\n",
      "Capital:  Pheonix\n",
      "  State:  Georgia\n",
      "Capital:  Atlanta\n",
      "  State:  Kentucky\n",
      "Capital:  Frankfort\n",
      "  State:  Ohio\n",
      "Capital:  Columbus\n"
     ]
    }
   ],
   "source": [
    "# Unpack dictionary items\n",
    "for j,k in data.items():\n",
    "    print(\"State: \", j)\n",
    "    print(\"Capital: \", k)"
   ]
  },
  {
   "cell_type": "markdown",
   "id": "82ec7aff",
   "metadata": {},
   "source": [
    "### Convert dictionary to lists using `list()` function"
   ]
  },
  {
   "cell_type": "code",
   "execution_count": 130,
   "id": "afcede6e",
   "metadata": {},
   "outputs": [
    {
     "data": {
      "text/plain": [
       "['Alabama', 'Arizona', 'Georgia', 'Kentucky', 'Ohio']"
      ]
     },
     "execution_count": 130,
     "metadata": {},
     "output_type": "execute_result"
    }
   ],
   "source": [
    "# Dictionary keys to a list\n",
    "data.keys()\n",
    "list(data.keys())"
   ]
  },
  {
   "cell_type": "code",
   "execution_count": 131,
   "id": "b85f9771",
   "metadata": {},
   "outputs": [
    {
     "data": {
      "text/plain": [
       "['Montgomery', 'Pheonix', 'Atlanta', 'Frankfort', 'Columbus']"
      ]
     },
     "execution_count": 131,
     "metadata": {},
     "output_type": "execute_result"
    }
   ],
   "source": [
    "# Dictionary values to a list\n",
    "list(data.values())"
   ]
  },
  {
   "cell_type": "markdown",
   "id": "d13131c6",
   "metadata": {},
   "source": [
    "### A List in a Dictionary: How to unpack all of the entrys"
   ]
  },
  {
   "cell_type": "code",
   "execution_count": 133,
   "id": "cd81cd95",
   "metadata": {},
   "outputs": [],
   "source": [
    "favLang = {\"jen\":[\"python\", \"ruby\"],\n",
    "           \"sara\":[\"C\"],\n",
    "           \"edward\":[\"Ruby\", \"java\"],\n",
    "           \"phil\":[\"python\", \"java\"]}"
   ]
  },
  {
   "cell_type": "code",
   "execution_count": 142,
   "id": "1d594da7",
   "metadata": {},
   "outputs": [
    {
     "name": "stdout",
     "output_type": "stream",
     "text": [
      "The name is Jen. The favorite languages are:\n",
      "\t\t\t\t\t\t python\n",
      "\t\t\t\t\t\t ruby\n",
      "The name is Sara. The favorite languages are:\n",
      "\t\t\t\t\t\t C\n",
      "The name is Edward. The favorite languages are:\n",
      "\t\t\t\t\t\t Ruby\n",
      "\t\t\t\t\t\t java\n",
      "The name is Phil. The favorite languages are:\n",
      "\t\t\t\t\t\t python\n",
      "\t\t\t\t\t\t java\n"
     ]
    }
   ],
   "source": [
    "for name, subjects in favLang.items():\n",
    "    print(f\"The name is {name.title()}. The favorite languages are:\")\n",
    "    \n",
    "    for i in subjects:\n",
    "        print(\"\\t\\t\\t\\t\\t\\t\",i)"
   ]
  },
  {
   "cell_type": "markdown",
   "id": "7543bcaf",
   "metadata": {},
   "source": [
    "###  A Dictionary in a Dictionary"
   ]
  },
  {
   "cell_type": "code",
   "execution_count": 145,
   "id": "5716262d",
   "metadata": {},
   "outputs": [],
   "source": [
    "user = {\"est\":{\"first\":\"albert\", \"last\":\"einstein\", \"location\":\"princton\"}, \"mcurie\":{\"first\":\"marie\", \"last\":\"Curie\", \"location\":\"paris\"}}\n"
   ]
  },
  {
   "cell_type": "code",
   "execution_count": 146,
   "id": "7aaca1c4",
   "metadata": {},
   "outputs": [
    {
     "data": {
      "text/plain": [
       "'albert'"
      ]
     },
     "execution_count": 146,
     "metadata": {},
     "output_type": "execute_result"
    }
   ],
   "source": [
    "# albert\n",
    "user[\"est\"][\"first\"]"
   ]
  },
  {
   "cell_type": "code",
   "execution_count": 147,
   "id": "0307c56f",
   "metadata": {},
   "outputs": [
    {
     "data": {
      "text/plain": [
       "'paris'"
      ]
     },
     "execution_count": 147,
     "metadata": {},
     "output_type": "execute_result"
    }
   ],
   "source": [
    "# paris\n",
    "user[\"mcurie\"][\"location\"]"
   ]
  },
  {
   "cell_type": "code",
   "execution_count": 154,
   "id": "fd0c74c9",
   "metadata": {},
   "outputs": [
    {
     "name": "stdout",
     "output_type": "stream",
     "text": [
      "Username: est\n",
      "Full name: albert einstein\n",
      "Location: princton\n",
      "Username: mcurie\n",
      "Full name: marie Curie\n",
      "Location: paris\n"
     ]
    }
   ],
   "source": [
    "for username, userInfo in user.items():\n",
    "    print(f\"Username: {username}\")\n",
    "    fullName = userInfo['first']+ \" \" +userInfo[\"last\"]\n",
    "    print(\"Full name: \" + fullName)\n",
    "    print(\"Location: \" + userInfo[\"location\"])\n",
    "    "
   ]
  }
 ],
 "metadata": {
  "kernelspec": {
   "display_name": "Python 3 (ipykernel)",
   "language": "python",
   "name": "python3"
  },
  "language_info": {
   "codemirror_mode": {
    "name": "ipython",
    "version": 3
   },
   "file_extension": ".py",
   "mimetype": "text/x-python",
   "name": "python",
   "nbconvert_exporter": "python",
   "pygments_lexer": "ipython3",
   "version": "3.11.4"
  }
 },
 "nbformat": 4,
 "nbformat_minor": 5
}
