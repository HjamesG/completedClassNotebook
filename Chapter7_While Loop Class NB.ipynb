{
 "cells": [
  {
   "cell_type": "markdown",
   "metadata": {},
   "source": [
    "# While Loop\n",
    "* The for loop takes a collection of items and executes a block of code once for each item in the collection. \n",
    "* In contrast, the while loop runs as long as, or while, a certain condition is true."
   ]
  },
  {
   "cell_type": "markdown",
   "metadata": {},
   "source": [
    "## The while Loop in Action\n",
    "You can use a while loop to count up through a series of numbers. For\n",
    "example, the following while loop counts from 1 to 5:\n"
   ]
  },
  {
   "cell_type": "code",
   "execution_count": 1,
   "metadata": {},
   "outputs": [
    {
     "name": "stdout",
     "output_type": "stream",
     "text": [
      "1\n",
      "2\n",
      "3\n",
      "4\n",
      "5\n"
     ]
    }
   ],
   "source": [
    "for i in range(1,6):\n",
    "    print(i)"
   ]
  },
  {
   "cell_type": "code",
   "execution_count": 4,
   "metadata": {},
   "outputs": [
    {
     "name": "stdout",
     "output_type": "stream",
     "text": [
      "1\n",
      "2\n",
      "3\n",
      "4\n",
      "5\n"
     ]
    }
   ],
   "source": [
    "j = 1\n",
    "while j <= 5:\n",
    "    print(j)\n",
    "    j = j + 1"
   ]
  },
  {
   "cell_type": "code",
   "execution_count": 12,
   "metadata": {},
   "outputs": [
    {
     "name": "stdout",
     "output_type": "stream",
     "text": [
      "10 11 12 13 14 15 16 17 18 19 20 21 22 23 24 25 26 27 28 29 30 31 32 33 34 35 36 37 38 39 40 41 42 43 44 45 46 47 48 49 50 "
     ]
    }
   ],
   "source": [
    "k = 10\n",
    "while k <= 50:\n",
    "    print(k, end = \" \")\n",
    "    k = k + 1"
   ]
  },
  {
   "cell_type": "code",
   "execution_count": 15,
   "metadata": {},
   "outputs": [
    {
     "name": "stdout",
     "output_type": "stream",
     "text": [
      "16 18 20 22 24 26 28 30 32 34 36 38 40 42 44 46 48 50 "
     ]
    }
   ],
   "source": [
    "j = 15\n",
    "while j <= 50:\n",
    "    if j % 2 == 0:\n",
    "        print(j, end = \" \")\n",
    "    j = j + 1"
   ]
  },
  {
   "cell_type": "markdown",
   "metadata": {},
   "source": [
    "## Print all the odd numbers between 15 and 30 using while and for loop"
   ]
  },
  {
   "cell_type": "code",
   "execution_count": 16,
   "metadata": {},
   "outputs": [
    {
     "name": "stdout",
     "output_type": "stream",
     "text": [
      "15 17 19 21 23 25 27 29 31 33 35 37 39 41 43 45 47 49 "
     ]
    }
   ],
   "source": [
    "## odd numbers\n",
    "j = 15\n",
    "while j <= 50:\n",
    "    if j % 2 == 1:\n",
    "        print(j, end = \" \")\n",
    "    j = j + 1"
   ]
  },
  {
   "cell_type": "markdown",
   "metadata": {},
   "source": [
    "## Write a code to print the numbers between 10 and 30 which are divisable by 5\n",
    " - while loop\n",
    " - for loop"
   ]
  },
  {
   "cell_type": "code",
   "execution_count": 17,
   "metadata": {},
   "outputs": [
    {
     "name": "stdout",
     "output_type": "stream",
     "text": [
      "10\n",
      "15\n",
      "20\n",
      "25\n"
     ]
    }
   ],
   "source": [
    "## for loop\n",
    "for i in range(10, 30):\n",
    "    if i % 5 == 0:\n",
    "        print(i)"
   ]
  },
  {
   "cell_type": "code",
   "execution_count": null,
   "metadata": {},
   "outputs": [],
   "source": [
    "## while loop\n",
    "w = 10\n",
    "for "
   ]
  },
  {
   "cell_type": "markdown",
   "metadata": {},
   "source": [
    "## Letting the User Choose When to Quit"
   ]
  },
  {
   "cell_type": "code",
   "execution_count": 20,
   "metadata": {},
   "outputs": [
    {
     "name": "stdout",
     "output_type": "stream",
     "text": [
      "Tell me anything and I will repeat it back to you. Enter 'quit' to end the loop. lol\n",
      "The user imput is: lol\n",
      "Tell me anything and I will repeat it back to you. Enter 'quit' to end the loop. quit\n",
      "The user imput is: quit\n"
     ]
    }
   ],
   "source": [
    "=user = \"\"\n",
    "\n",
    "while user != 'quit':\n",
    "    user=input(\"\\nTell me anything and I will repeat it back to you. Enter \\'quit\\' to end the loop. \")\n",
    "    print(f\"The user imput is: {user}\")"
   ]
  },
  {
   "cell_type": "markdown",
   "metadata": {},
   "source": [
    "## A Flag"
   ]
  },
  {
   "cell_type": "markdown",
   "metadata": {
    "slideshow": {
     "slide_type": "subslide"
    }
   },
   "source": [
    "### For a program that should run only as long as many conditions are true, you can define one variable that determines whether or not the entire program is active. This variable, called a `flag`, acts as a signal to the program."
   ]
  },
  {
   "cell_type": "code",
   "execution_count": null,
   "metadata": {},
   "outputs": [],
   "source": [
    "user = \"\"\n",
    "active = True # The flag\n",
    "while active:\n",
    "    user = input(\"\\nTell me anything and I will repeat it back to you. Enter \\'quit\\' to end the loop. \")\n",
    "    if user == 'quit':\n",
    "        active=False \n",
    "    else:\n",
    "        print(user)"
   ]
  },
  {
   "cell_type": "markdown",
   "metadata": {},
   "source": [
    "## Using break to Exit a Loop\n",
    "To exit a while loop immediately without running any remaining code in the\n",
    "loop, regardless of the results of any conditional test, use the break statement."
   ]
  },
  {
   "cell_type": "code",
   "execution_count": 23,
   "metadata": {},
   "outputs": [
    {
     "name": "stdout",
     "output_type": "stream",
     "text": [
      "\n",
      "Tell me anything and I will repeat it back to you. Enter 'quit' to end the loop. hello\n",
      "hello\n",
      "\n",
      "Tell me anything and I will repeat it back to you. Enter 'quit' to end the loop. no\n",
      "no\n",
      "\n",
      "Tell me anything and I will repeat it back to you. Enter 'quit' to end the loop. quit\n"
     ]
    }
   ],
   "source": [
    "user = \"\"\n",
    "while True:\n",
    "    user = input(\"\\nTell me anything and I will repeat it back to you. Enter \\'quit\\' to end the loop. \")\n",
    "    if user == 'quit':\n",
    "        break\n",
    "    print(user)"
   ]
  },
  {
   "cell_type": "markdown",
   "metadata": {},
   "source": [
    "### Guess the number"
   ]
  },
  {
   "cell_type": "code",
   "execution_count": 26,
   "metadata": {},
   "outputs": [
    {
     "ename": "KeyboardInterrupt",
     "evalue": "Interrupted by user",
     "output_type": "error",
     "traceback": [
      "\u001b[0;31m---------------------------------------------------------------------------\u001b[0m",
      "\u001b[0;31mKeyboardInterrupt\u001b[0m                         Traceback (most recent call last)",
      "Cell \u001b[0;32mIn[26], line 4\u001b[0m\n\u001b[1;32m      2\u001b[0m number \u001b[38;5;241m=\u001b[39m \u001b[38;5;241m0\u001b[39m\n\u001b[1;32m      3\u001b[0m \u001b[38;5;28;01mwhile\u001b[39;00m \u001b[38;5;28;01mTrue\u001b[39;00m:\n\u001b[0;32m----> 4\u001b[0m     number\u001b[38;5;241m=\u001b[39m\u001b[38;5;28mint\u001b[39m(\u001b[38;5;28minput\u001b[39m(prompt))\n\u001b[1;32m      5\u001b[0m     \u001b[38;5;28;01mif\u001b[39;00m number\u001b[38;5;241m==\u001b[39m\u001b[38;5;241m5\u001b[39m:\n\u001b[1;32m      6\u001b[0m         \u001b[38;5;28mprint\u001b[39m(\u001b[38;5;124m\"\u001b[39m\u001b[38;5;124mCorrect Guess!\u001b[39m\u001b[38;5;124m\"\u001b[39m)\n",
      "File \u001b[0;32m~/anaconda3/lib/python3.11/site-packages/ipykernel/kernelbase.py:1175\u001b[0m, in \u001b[0;36mKernel.raw_input\u001b[0;34m(self, prompt)\u001b[0m\n\u001b[1;32m   1171\u001b[0m \u001b[38;5;28;01mif\u001b[39;00m \u001b[38;5;129;01mnot\u001b[39;00m \u001b[38;5;28mself\u001b[39m\u001b[38;5;241m.\u001b[39m_allow_stdin:\n\u001b[1;32m   1172\u001b[0m     \u001b[38;5;28;01mraise\u001b[39;00m StdinNotImplementedError(\n\u001b[1;32m   1173\u001b[0m         \u001b[38;5;124m\"\u001b[39m\u001b[38;5;124mraw_input was called, but this frontend does not support input requests.\u001b[39m\u001b[38;5;124m\"\u001b[39m\n\u001b[1;32m   1174\u001b[0m     )\n\u001b[0;32m-> 1175\u001b[0m \u001b[38;5;28;01mreturn\u001b[39;00m \u001b[38;5;28mself\u001b[39m\u001b[38;5;241m.\u001b[39m_input_request(\n\u001b[1;32m   1176\u001b[0m     \u001b[38;5;28mstr\u001b[39m(prompt),\n\u001b[1;32m   1177\u001b[0m     \u001b[38;5;28mself\u001b[39m\u001b[38;5;241m.\u001b[39m_parent_ident[\u001b[38;5;124m\"\u001b[39m\u001b[38;5;124mshell\u001b[39m\u001b[38;5;124m\"\u001b[39m],\n\u001b[1;32m   1178\u001b[0m     \u001b[38;5;28mself\u001b[39m\u001b[38;5;241m.\u001b[39mget_parent(\u001b[38;5;124m\"\u001b[39m\u001b[38;5;124mshell\u001b[39m\u001b[38;5;124m\"\u001b[39m),\n\u001b[1;32m   1179\u001b[0m     password\u001b[38;5;241m=\u001b[39m\u001b[38;5;28;01mFalse\u001b[39;00m,\n\u001b[1;32m   1180\u001b[0m )\n",
      "File \u001b[0;32m~/anaconda3/lib/python3.11/site-packages/ipykernel/kernelbase.py:1217\u001b[0m, in \u001b[0;36mKernel._input_request\u001b[0;34m(self, prompt, ident, parent, password)\u001b[0m\n\u001b[1;32m   1214\u001b[0m             \u001b[38;5;28;01mbreak\u001b[39;00m\n\u001b[1;32m   1215\u001b[0m \u001b[38;5;28;01mexcept\u001b[39;00m \u001b[38;5;167;01mKeyboardInterrupt\u001b[39;00m:\n\u001b[1;32m   1216\u001b[0m     \u001b[38;5;66;03m# re-raise KeyboardInterrupt, to truncate traceback\u001b[39;00m\n\u001b[0;32m-> 1217\u001b[0m     \u001b[38;5;28;01mraise\u001b[39;00m \u001b[38;5;167;01mKeyboardInterrupt\u001b[39;00m(\u001b[38;5;124m\"\u001b[39m\u001b[38;5;124mInterrupted by user\u001b[39m\u001b[38;5;124m\"\u001b[39m) \u001b[38;5;28;01mfrom\u001b[39;00m \u001b[38;5;28;01mNone\u001b[39;00m\n\u001b[1;32m   1218\u001b[0m \u001b[38;5;28;01mexcept\u001b[39;00m \u001b[38;5;167;01mException\u001b[39;00m:\n\u001b[1;32m   1219\u001b[0m     \u001b[38;5;28mself\u001b[39m\u001b[38;5;241m.\u001b[39mlog\u001b[38;5;241m.\u001b[39mwarning(\u001b[38;5;124m\"\u001b[39m\u001b[38;5;124mInvalid Message:\u001b[39m\u001b[38;5;124m\"\u001b[39m, exc_info\u001b[38;5;241m=\u001b[39m\u001b[38;5;28;01mTrue\u001b[39;00m)\n",
      "\u001b[0;31mKeyboardInterrupt\u001b[0m: Interrupted by user"
     ]
    }
   ],
   "source": [
    "prompt = \"Guess a number between 1 to 10: \"\n",
    "number = 0\n",
    "while True:\n",
    "    number=int(input(prompt))\n",
    "    if number==5:\n",
    "        print(\"Correct Guess!\")\n",
    "        break\n",
    "    else:\n",
    "        print(number, \"\\nTry again!\")"
   ]
  },
  {
   "cell_type": "markdown",
   "metadata": {},
   "source": [
    "### Guess the number with proper direction"
   ]
  },
  {
   "cell_type": "code",
   "execution_count": null,
   "metadata": {},
   "outputs": [],
   "source": [
    "number = 0\n",
    "while True:\n",
    "    number=int(input(\"\\nGuess a number between 1 to 10: \"))\n",
    "    if number==5:\n",
    "        print(\"You have guessed the number!\")\n",
    "        break\n",
    "    elif number<5:\n",
    "        print(\"Guess a higher number\")\n",
    "    elif number>5 and number<=10:\n",
    "        print(\"Guess a lower number\")\n",
    "    else:\n",
    "        print(\"Invalid guess, guess again\")"
   ]
  },
  {
   "cell_type": "markdown",
   "metadata": {},
   "source": [
    "### Break with for loop"
   ]
  },
  {
   "cell_type": "code",
   "execution_count": 27,
   "metadata": {},
   "outputs": [
    {
     "name": "stdout",
     "output_type": "stream",
     "text": [
      "10 11 12 13 14 "
     ]
    }
   ],
   "source": [
    "# Print the numbers between 10 to 30\n",
    "# Break the loop at the number 15\n",
    "for i in range(10,30):\n",
    "    if i == 15:\n",
    "        break\n",
    "    print(i, end = \" \")\n",
    "    "
   ]
  },
  {
   "cell_type": "markdown",
   "metadata": {},
   "source": [
    "### Using continue in a Loop\n",
    "- Rather than breaking out of a loop entirely without executing the rest of its code, \n",
    "- you can use the continue statement to return to the beginning of the loop based on the result of a conditional test. \n",
    "- For example, consider a loop that counts from 1 to 10 but prints only the odd numbers in that range:"
   ]
  },
  {
   "cell_type": "code",
   "execution_count": 28,
   "metadata": {},
   "outputs": [
    {
     "name": "stdout",
     "output_type": "stream",
     "text": [
      "10 11 12 13 14 16 17 18 19 20 21 22 23 24 25 26 27 28 29 "
     ]
    }
   ],
   "source": [
    "for i in range(10,30):\n",
    "    if i == 15:\n",
    "        continue\n",
    "    print(i, end = \" \")"
   ]
  },
  {
   "cell_type": "code",
   "execution_count": 29,
   "metadata": {},
   "outputs": [
    {
     "name": "stdout",
     "output_type": "stream",
     "text": [
      "1 3 5 7 9 "
     ]
    }
   ],
   "source": [
    "# For example, consider a loop that counts from 1 to 10 but prints only the odd numbers in that range:\n",
    "for i in range(1,11):\n",
    "    if (i % 2) == 0:\n",
    "        continue\n",
    "    print(i, end = \" \")"
   ]
  },
  {
   "cell_type": "code",
   "execution_count": null,
   "metadata": {},
   "outputs": [],
   "source": [
    "# Fix this\n",
    "\n",
    "#j = 1\n",
    "#while j < 11:\n",
    "   # if (j % 2) == 0:\n",
    "        #continue\n",
    "   # print(j, end=\" \")\n",
    "   # j += 1\n",
    "#Continue will not work for a while loop"
   ]
  },
  {
   "cell_type": "markdown",
   "metadata": {},
   "source": [
    "### consider a loop (while/for) that counts from 10 to 20 but prints only the even numbers in that range, use continue statement:"
   ]
  },
  {
   "cell_type": "code",
   "execution_count": 31,
   "metadata": {},
   "outputs": [
    {
     "name": "stdout",
     "output_type": "stream",
     "text": [
      "10\n",
      "12\n",
      "14\n",
      "16\n",
      "18\n",
      "20\n"
     ]
    }
   ],
   "source": [
    "for i in range(10,21):\n",
    "    if i % 2 != 0:\n",
    "        continue\n",
    "    print(i)"
   ]
  },
  {
   "cell_type": "markdown",
   "metadata": {},
   "source": [
    "### Avoiding Infinite Loops"
   ]
  },
  {
   "cell_type": "code",
   "execution_count": null,
   "metadata": {},
   "outputs": [],
   "source": [
    "# Nothing was done here in class"
   ]
  },
  {
   "cell_type": "code",
   "execution_count": null,
   "metadata": {},
   "outputs": [],
   "source": []
  },
  {
   "cell_type": "markdown",
   "metadata": {},
   "source": [
    "### Movie Tickets: A movie theater charges different ticket prices depending on a person’s age. \n",
    "- If a person is under the age of 3, the ticket is free; if they are between 3 and 12, the ticket is 10 dollar\n",
    "- if they are over age 12, the ticket is 15 dollar. \n",
    "Write a while loop in which you ask users their age, and then tell them the cost of their movie ticket."
   ]
  },
  {
   "cell_type": "code",
   "execution_count": null,
   "metadata": {},
   "outputs": [],
   "source": []
  },
  {
   "cell_type": "code",
   "execution_count": null,
   "metadata": {},
   "outputs": [],
   "source": []
  },
  {
   "cell_type": "markdown",
   "metadata": {},
   "source": [
    "## Using a while Loop with Lists and Dictionaries"
   ]
  },
  {
   "cell_type": "markdown",
   "metadata": {},
   "source": [
    "### Moving Items from One List to Another"
   ]
  },
  {
   "cell_type": "code",
   "execution_count": 31,
   "metadata": {},
   "outputs": [
    {
     "name": "stdout",
     "output_type": "stream",
     "text": [
      "Beau\n",
      "['Beau']\n",
      "Jackson\n",
      "['Beau', 'Jackson']\n",
      "Matthew\n",
      "['Beau', 'Jackson', 'Matthew']\n",
      "Anthony\n",
      "['Beau', 'Jackson', 'Matthew', 'Anthony']\n",
      "Final List ['Beau', 'Jackson', 'Matthew', 'Anthony']\n",
      "\n",
      "Beau is my peer.\n",
      "Jackson is my peer.\n",
      "Matthew is my peer.\n",
      "Anthony is my peer.\n"
     ]
    }
   ],
   "source": [
    "# name of the friends move from friends list to peers list\n",
    "# unpack the list\n",
    "friendsList = [\"Anthony\", \"Matthew\", \"Jackson\", \"Beau\"]\n",
    "peersList = []\n",
    "\n",
    "while friendsList:\n",
    "    hold = friendsList.pop()\n",
    "    print(hold)\n",
    "    peersList.append(hold)\n",
    "    print(peersList)\n",
    "    \n",
    "print(f\"Final List {peersList}\\n\")\n",
    "\n",
    "for name in peersList:\n",
    "    print(f\"{name} is my peer.\")"
   ]
  },
  {
   "cell_type": "code",
   "execution_count": 20,
   "metadata": {},
   "outputs": [
    {
     "data": {
      "text/plain": [
       "True"
      ]
     },
     "execution_count": 20,
     "metadata": {},
     "output_type": "execute_result"
    }
   ],
   "source": []
  },
  {
   "cell_type": "markdown",
   "metadata": {},
   "source": [
    "### Removing All Instances of Specific Values from a List"
   ]
  },
  {
   "cell_type": "code",
   "execution_count": 44,
   "metadata": {},
   "outputs": [
    {
     "name": "stdout",
     "output_type": "stream",
     "text": [
      "['dog', 'cat', 'dog', 'goldfish', 'cat', 'rabbit', 'cat']\n",
      "\n",
      "Final List: ['dog', 'dog', 'goldfish', 'rabbit']\n"
     ]
    }
   ],
   "source": [
    "pets = ['dog', 'cat', 'dog', 'goldfish', 'cat', 'rabbit', 'cat']\n",
    "print(pets)\n",
    "# remove cat from the list\n",
    "while \"cat\" in pets:\n",
    "    pets.remove(\"cat\")\n",
    "print(f\"\\nFinal List: {pets}\")"
   ]
  },
  {
   "cell_type": "code",
   "execution_count": 45,
   "metadata": {},
   "outputs": [
    {
     "name": "stdout",
     "output_type": "stream",
     "text": [
      "Without Dogs: ['goldfish', 'rabbit']\n"
     ]
    }
   ],
   "source": [
    "while \"dog\" in pets:\n",
    "    pets.remove(\"dog\")\n",
    "print(f\"Without Dogs: {pets}\")"
   ]
  },
  {
   "cell_type": "markdown",
   "metadata": {},
   "source": [
    "### Filling a Dictionary with User Input\n",
    "#### asking the user to input their name as dictionary keys and tbeir favorite food as dictionary values\n"
   ]
  },
  {
   "cell_type": "code",
   "execution_count": 3,
   "metadata": {},
   "outputs": [
    {
     "name": "stdout",
     "output_type": "stream",
     "text": [
      "What is your name? asdf\n",
      "What is your favorite food? asfd\n",
      "{'asdf': 'asfd'}\n",
      "Would you like to add another entry? (yes/no)asfd\n",
      "What is your name? asdf\n",
      "What is your favorite food? asdf\n",
      "{'asdf': 'asdf'}\n",
      "Would you like to add another entry? (yes/no)no\n",
      "{'asdf': 'asdf'}\n",
      "asdf enjoys eating asdf\n"
     ]
    }
   ],
   "source": [
    "response = {}\n",
    "# poll is a flag\n",
    "poll = True\n",
    "while poll:\n",
    "    name = input(\"What is your name? \")\n",
    "    favFood = input(\"What is your favorite food? \")\n",
    "    response.update({name:favFood})\n",
    "    print(response)\n",
    "    repeat = input(\"Would you like to add another entry? (yes/no)\")\n",
    "    if repeat == \"no\":\n",
    "        poll = False\n",
    "        #break\n",
    "print(response)\n",
    "# unpack the dictionary\n",
    "for name, food in response.items():\n",
    "    print(f\"{name} enjoys eating {food}\")"
   ]
  },
  {
   "cell_type": "markdown",
   "metadata": {},
   "source": [
    "#### Create a grovery dictionary with 5 items and the quantity\n",
    "- key is item name\n",
    "- valie is quantity"
   ]
  },
  {
   "cell_type": "code",
   "execution_count": 14,
   "metadata": {},
   "outputs": [
    {
     "name": "stdout",
     "output_type": "stream",
     "text": [
      "What would you like to buy? pi\n",
      "How much of it do you like to get? 314159\n",
      "Would you like to add another entry to the list? (y/n)cake\n",
      "What would you like to buy? 9\n",
      "How much of it do you like to get? 5\n",
      "Would you like to add another entry to the list? (y/n)n\n",
      "You need to buy 314159 pi\n",
      "You need to buy 5 9\n"
     ]
    }
   ],
   "source": [
    "grcyLst = {}\n",
    "while True:\n",
    "    item = input(\"What would you like to buy? \")\n",
    "    qnty = int(input(\"How much of it do you like to get? \"))\n",
    "    grcyLst.update({item:qnty})\n",
    "    fill = input(\"Would you like to add another entry to the list? (y/n)\")\n",
    "    if fill == \"n\":\n",
    "        break\n",
    "for i,q in grcyLst.items():\n",
    "    print(f\"You need to buy {q} {i}\")"
   ]
  },
  {
   "cell_type": "markdown",
   "metadata": {},
   "source": [
    "## Deli: Make a list called sandwich_orders and fill it with the names of various sandwiches. \n",
    "- Then make an empty list called finished_sandwiches. \n",
    "- Loop through the list of sandwich orders and print a message for each order, such as I made your tuna sandwich. \n",
    "- As each sandwich is made, move it to the list of finished sandwiches. \n",
    "- After all the sandwiches have been made, print a message listing each sandwich that was made."
   ]
  },
  {
   "cell_type": "code",
   "execution_count": 39,
   "metadata": {},
   "outputs": [
    {
     "name": "stdout",
     "output_type": "stream",
     "text": [
      "Your Peanut Butter and Jelly is ready! The cost is: $15\n",
      "Your Turkey Bacon Club Sandwitch is ready! The cost is: $12\n",
      "Your Meatball marinara sub is ready! The cost is: $15\n",
      "Your Tuna Sandwich is ready! The cost is: $16\n",
      "\n",
      "All sandwiches that were made are: ['Peanut Butter and Jelly', 'Turkey Bacon Club Sandwitch', 'Meatball marinara sub', 'Tuna Sandwich']\n"
     ]
    }
   ],
   "source": [
    "import random\n",
    "sandwichOrders = [\"Tuna Sandwich\", \"Meatball marinara sub\", \"Turkey Bacon Club Sandwitch\", \"Peanut Butter and Jelly\"]\n",
    "finishedSandwiches = []\n",
    "\n",
    "while sandwichOrders:\n",
    "    hold = sandwichOrders.pop()\n",
    "    print(f\"Your {hold} is ready! The cost is: ${random.randrange(10,20)}\")\n",
    "    finishedSandwiches.append(hold)\n",
    "    \n",
    "print(f\"\\nAll sandwiches that were made are: {finishedSandwiches}\")"
   ]
  },
  {
   "cell_type": "code",
   "execution_count": null,
   "metadata": {},
   "outputs": [],
   "source": []
  },
  {
   "cell_type": "markdown",
   "metadata": {},
   "source": [
    "## Write a program to print n natural number in descending order using a while loop.\n"
   ]
  },
  {
   "cell_type": "code",
   "execution_count": 17,
   "metadata": {},
   "outputs": [
    {
     "name": "stdout",
     "output_type": "stream",
     "text": [
      "Input the value of n: -5\n"
     ]
    }
   ],
   "source": [
    "n = int(input(\"Input the value of n: \"))\n",
    "while n > 0:\n",
    "    print(n)\n",
    "    n = n-1\n"
   ]
  },
  {
   "cell_type": "markdown",
   "metadata": {},
   "source": [
    "## Factorial of a number"
   ]
  },
  {
   "cell_type": "code",
   "execution_count": 37,
   "metadata": {},
   "outputs": [
    {
     "name": "stdout",
     "output_type": "stream",
     "text": [
      "What number would you like the factorial of? 3\n",
      "The factorial of that number is: 6\n"
     ]
    }
   ],
   "source": [
    "# homework\n",
    "num = int(input(\"What number would you like the factorial of? \"))\n",
    "hold = num\n",
    "while num > 1:\n",
    "    num = num - 1\n",
    "    hold = hold * num\n",
    "if num <=0:\n",
    "    print(\"Error: Number below 0\")\n",
    "else:\n",
    "    print(f\"The factorial of that number is: {hold}\")"
   ]
  },
  {
   "cell_type": "markdown",
   "metadata": {},
   "source": [
    "## Take 10 integers from keyboard using loop and print their sum and average value on the screen"
   ]
  },
  {
   "cell_type": "code",
   "execution_count": 33,
   "metadata": {},
   "outputs": [
    {
     "name": "stdout",
     "output_type": "stream",
     "text": [
      "What number would you like to add? 1\n",
      "What number would you like to add? 2\n",
      "What number would you like to add? 3\n",
      "What number would you like to add? 4\n",
      "What number would you like to add? 5\n",
      "What number would you like to add? 6\n",
      "What number would you like to add? 7\n",
      "What number would you like to add? 8\n",
      "What number would you like to add? 9\n",
      "What number would you like to add? 10\n",
      "The sum of all the numbers is 55\n",
      "The average value of all the numbers is 5.5\n"
     ]
    }
   ],
   "source": [
    "counter = 0\n",
    "total = 0\n",
    "while counter < 10:\n",
    "    temp = int(input(\"What number would you like to add? \"))\n",
    "    total = total + temp\n",
    "    counter = counter + 1\n",
    "print(f\"The sum of all the numbers is {total}\")\n",
    "print(f\"The average value of all the numbers is {total/counter}\")\n",
    "    "
   ]
  },
  {
   "attachments": {
    "image.png": {
     "image/png": "[encoded data removed]"
    }
   },
   "cell_type": "markdown",
   "metadata": {},
   "source": [
    "## Print the following patterns using loop :\n",
    "![image.png](attachment:image.png)"
   ]
  },
  {
   "cell_type": "code",
   "execution_count": 15,
   "metadata": {},
   "outputs": [
    {
     "name": "stdout",
     "output_type": "stream",
     "text": [
      "How big do you want the stairs to be? 20\n"
     ]
    }
   ],
   "source": [
    "i = int(input(\"How big do you want the stairs to be? \"))\n",
    "while i > 0:\n",
    "    print(\"*\"*i)\n",
    "    i = i + 1"
   ]
  },
  {
   "cell_type": "markdown",
   "metadata": {},
   "source": [
    "## Write a program to display the first 7 multiples of 7.\n"
   ]
  },
  {
   "cell_type": "code",
   "execution_count": 12,
   "metadata": {},
   "outputs": [
    {
     "name": "stdout",
     "output_type": "stream",
     "text": [
      "7\n",
      "14\n",
      "21\n",
      "28\n",
      "35\n",
      "42\n",
      "49\n",
      "\n",
      "Other Way\n",
      "\n",
      "7\n",
      "14\n",
      "21\n",
      "28\n",
      "35\n",
      "42\n",
      "49\n"
     ]
    }
   ],
   "source": [
    "i = 1\n",
    "temp = 7\n",
    "while i < 8:\n",
    "    print(temp*i)\n",
    "    i = i + 1\n",
    "    \n",
    "print(\"\\nOther Way\\n\")\n",
    "\n",
    "count = 0\n",
    "for i in range(1,100):\n",
    "    if i%7 == 0:\n",
    "        print(i)\n",
    "        count = count + 1\n",
    "    if count == 7:\n",
    "        break"
   ]
  },
  {
   "cell_type": "markdown",
   "metadata": {},
   "source": [
    "## Write a program that appends the square of each number to a new list."
   ]
  },
  {
   "cell_type": "code",
   "execution_count": 13,
   "metadata": {},
   "outputs": [
    {
     "name": "stdout",
     "output_type": "stream",
     "text": [
      "[1, 4, 9, 16, 25, 36]\n"
     ]
    }
   ],
   "source": [
    "inputList = [1, 2, 3, 4, 5, 6]\n",
    "outputList = []\n",
    "for i in inputList:\n",
    "    outputList.append(i**2)\n",
    "    \n",
    "print(outputList)"
   ]
  },
  {
   "cell_type": "markdown",
   "metadata": {},
   "source": [
    "## Separate positive and negative number from a list.\n",
    "x = [23,12,-4,23,-9,21,3,-45,-8]"
   ]
  },
  {
   "cell_type": "code",
   "execution_count": 14,
   "metadata": {},
   "outputs": [
    {
     "name": "stdout",
     "output_type": "stream",
     "text": [
      "Positive numbers: [23, 12, 23, 21, 3]\n",
      "Negative numbers: [-4, -9, -45, -8]\n"
     ]
    }
   ],
   "source": [
    "x = [23,12,-4,23,-9,21,3,-45,-8]\n",
    "positive = []\n",
    "negative = []\n",
    "for i in x:\n",
    "    if i >= 0:\n",
    "        positive.append(i)\n",
    "    else:\n",
    "        negative.append(i)\n",
    "print(f\"Positive numbers: {positive}\")\n",
    "print(f\"Negative numbers: {negative}\")"
   ]
  }
 ],
 "metadata": {
  "celltoolbar": "Slideshow",
  "kernelspec": {
   "display_name": "Python 3 (ipykernel)",
   "language": "python",
   "name": "python3"
  },
  "language_info": {
   "codemirror_mode": {
    "name": "ipython",
    "version": 3
   },
   "file_extension": ".py",
   "mimetype": "text/x-python",
   "name": "python",
   "nbconvert_exporter": "python",
   "pygments_lexer": "ipython3",
   "version": "3.11.4"
  }
 },
 "nbformat": 4,
 "nbformat_minor": 2
}
