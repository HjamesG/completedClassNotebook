{
 "cells": [
  {
   "cell_type": "markdown",
   "id": "84114222",
   "metadata": {},
   "source": [
    "### Practice Questions on Lists\n",
    "(Submit the notebook on Moodle using Github along with the class notebook)"
   ]
  },
  {
   "cell_type": "markdown",
   "id": "0891df79",
   "metadata": {},
   "source": [
    "### numbers = [0, 1, 2, 3, 4, 5, 6, 7, 8, 9]\n",
    "1. Get the first three elements.\n",
    "2. Get elements from index 3 to 6 (inclusive).\n",
    "3. Get the last three elements.\n",
    "4. Get every second element from the list.\n",
    "5. Get a reverse of the list."
   ]
  },
  {
   "cell_type": "code",
   "execution_count": 2,
   "id": "5efba997",
   "metadata": {},
   "outputs": [],
   "source": [
    "numbers = [0, 1, 2, 3, 4, 5, 6, 7, 8, 9]"
   ]
  },
  {
   "cell_type": "code",
   "execution_count": 3,
   "id": "2183500f",
   "metadata": {},
   "outputs": [
    {
     "name": "stdout",
     "output_type": "stream",
     "text": [
      "First 3 elements: [0, 1, 2]\n"
     ]
    }
   ],
   "source": [
    "print(f\"First 3 elements: {numbers[:3]}\")"
   ]
  },
  {
   "cell_type": "code",
   "execution_count": 4,
   "id": "b9a06cde",
   "metadata": {},
   "outputs": [
    {
     "name": "stdout",
     "output_type": "stream",
     "text": [
      "Elements 3-6: [3, 4, 5, 6]\n"
     ]
    }
   ],
   "source": [
    "print(f\"Elements 3-6: {numbers[3:7]}\")"
   ]
  },
  {
   "cell_type": "code",
   "execution_count": 6,
   "id": "e8e05d08",
   "metadata": {},
   "outputs": [
    {
     "name": "stdout",
     "output_type": "stream",
     "text": [
      "Last 3 elements: [7, 8, 9]\n"
     ]
    }
   ],
   "source": [
    "print(f\"Last 3 elements: {numbers[-3:]}\")"
   ]
  },
  {
   "cell_type": "code",
   "execution_count": 7,
   "id": "692dd618",
   "metadata": {},
   "outputs": [
    {
     "name": "stdout",
     "output_type": "stream",
     "text": [
      "Every 2nd element: [0, 2, 4, 6, 8]\n"
     ]
    }
   ],
   "source": [
    "print(f\"Every 2nd element: {numbers[::2]}\")"
   ]
  },
  {
   "cell_type": "code",
   "execution_count": 8,
   "id": "b0883889",
   "metadata": {},
   "outputs": [
    {
     "name": "stdout",
     "output_type": "stream",
     "text": [
      "Reverse: [9, 8, 7, 6, 5, 4, 3, 2, 1, 0]\n"
     ]
    }
   ],
   "source": [
    "print(f\"Reverse: {numbers[::-1]}\")"
   ]
  },
  {
   "cell_type": "markdown",
   "id": "dcc22463",
   "metadata": {},
   "source": [
    "### letters = ['a', 'b', 'c', 'd', 'e', 'f', 'g', 'h', 'i', 'j']\n",
    "1. Get every second letter starting from the first letter.\n",
    "2. Get every third letter starting from the second letter.\n",
    "3. Get every fourth letter starting from the third letter."
   ]
  },
  {
   "cell_type": "code",
   "execution_count": 9,
   "id": "34576f2b",
   "metadata": {},
   "outputs": [],
   "source": [
    "letters = [\"a\", \"b\", \"c\", \"d\", \"e\", 'f', 'g', 'h', 'i', 'j']"
   ]
  },
  {
   "cell_type": "code",
   "execution_count": 10,
   "id": "7f3f0694",
   "metadata": {},
   "outputs": [
    {
     "name": "stdout",
     "output_type": "stream",
     "text": [
      "Every second letter: ['a', 'c', 'e', 'g', 'i']\n"
     ]
    }
   ],
   "source": [
    "print(f\"Every second letter: {letters[::2]}\")"
   ]
  },
  {
   "cell_type": "code",
   "execution_count": 12,
   "id": "9ea50a1f",
   "metadata": {},
   "outputs": [
    {
     "name": "stdout",
     "output_type": "stream",
     "text": [
      "Every third letter from the second: ['b', 'e', 'h']\n"
     ]
    }
   ],
   "source": [
    "print(f\"Every third letter from the second: {letters[1::3]}\")"
   ]
  },
  {
   "cell_type": "code",
   "execution_count": 13,
   "id": "511e5070",
   "metadata": {},
   "outputs": [
    {
     "name": "stdout",
     "output_type": "stream",
     "text": [
      "Every fourth letter from the third: ['c', 'g']\n"
     ]
    }
   ],
   "source": [
    "print(f\"Every fourth letter from the third: {letters[2::4]}\")"
   ]
  },
  {
   "cell_type": "markdown",
   "id": "ee041ed9",
   "metadata": {},
   "source": [
    "### colors = ['red', 'green', 'blue', 'yellow', 'purple']\n",
    "1. Get the last two elements.\n",
    "2. Get elements from the third to the last element.\n",
    "3. Get a reverse of the list using negative indexing."
   ]
  },
  {
   "cell_type": "code",
   "execution_count": 15,
   "id": "0e5e09a0",
   "metadata": {},
   "outputs": [],
   "source": [
    "colors = ['red', 'green', 'blue', 'yellow', 'purple']"
   ]
  },
  {
   "cell_type": "code",
   "execution_count": 16,
   "id": "54a6f796",
   "metadata": {},
   "outputs": [
    {
     "name": "stdout",
     "output_type": "stream",
     "text": [
      "The last 2 elements: ['yellow', 'purple']\n"
     ]
    }
   ],
   "source": [
    "print(f\"The last 2 elements: {colors[-2:]}\")"
   ]
  },
  {
   "cell_type": "code",
   "execution_count": 17,
   "id": "06e60de5",
   "metadata": {},
   "outputs": [
    {
     "name": "stdout",
     "output_type": "stream",
     "text": [
      "Elements from the third to last: ['blue', 'yellow', 'purple']\n"
     ]
    }
   ],
   "source": [
    "print(f\"Elements from the third to last: {colors[2:]}\")"
   ]
  },
  {
   "cell_type": "code",
   "execution_count": 18,
   "id": "36c4bcdc",
   "metadata": {},
   "outputs": [
    {
     "name": "stdout",
     "output_type": "stream",
     "text": [
      "Reverse List using negative indexing: ['purple', 'yellow', 'blue', 'green', 'red']\n"
     ]
    }
   ],
   "source": [
    "print(f\"Reverse List using negative indexing: {colors[::-1]}\")"
   ]
  },
  {
   "cell_type": "code",
   "execution_count": 23,
   "id": "d51ef7ec",
   "metadata": {},
   "outputs": [
    {
     "name": "stdout",
     "output_type": "stream",
     "text": [
      "Reverse the list with step of two: ['purple', 'blue', 'red']\n"
     ]
    }
   ],
   "source": [
    "print(f\"Reverse the list with step of two: {colors[::-2]}\")"
   ]
  },
  {
   "cell_type": "markdown",
   "id": "015a43d4",
   "metadata": {},
   "source": [
    "## Slicing Nested Lists\n",
    "### matrix = [[1, 2, 3], [4, 5, 6], [7, 8, 9]]\n",
    "1. Extract the second row (list [4, 5, 6]).\n",
    "2. Extract the number 2.\n",
    "3. Extract the number 9."
   ]
  },
  {
   "cell_type": "code",
   "execution_count": 19,
   "id": "b45aca96",
   "metadata": {},
   "outputs": [],
   "source": [
    "matrix = [[1, 2, 3], [4, 5, 6], [7, 8, 9]]"
   ]
  },
  {
   "cell_type": "code",
   "execution_count": 20,
   "id": "3cef0e46",
   "metadata": {},
   "outputs": [
    {
     "name": "stdout",
     "output_type": "stream",
     "text": [
      "The second row: [4, 5, 6]\n"
     ]
    }
   ],
   "source": [
    "print(f\"The second row: {matrix[1]}\")"
   ]
  },
  {
   "cell_type": "code",
   "execution_count": 21,
   "id": "f6912ee9",
   "metadata": {},
   "outputs": [
    {
     "name": "stdout",
     "output_type": "stream",
     "text": [
      "Extracting the number 2: 2\n"
     ]
    }
   ],
   "source": [
    "print(f\"Extracting the number 2: {matrix[0][1]}\")"
   ]
  },
  {
   "cell_type": "code",
   "execution_count": 22,
   "id": "1758627d",
   "metadata": {},
   "outputs": [
    {
     "name": "stdout",
     "output_type": "stream",
     "text": [
      "Extracting the number 9: 9\n"
     ]
    }
   ],
   "source": [
    "print(f\"Extracting the number 9: {matrix[2][2]}\")"
   ]
  },
  {
   "cell_type": "markdown",
   "id": "5623ae5f",
   "metadata": {},
   "source": [
    "### Matrix1 = [\"Day\", [23, 45], \"Monday\", [[12, 13], [14, 15]] ]\n",
    "- print Monday\n",
    "- print 13\n",
    "- print 15\n",
    "- print 45\n",
    "- print day"
   ]
  },
  {
   "cell_type": "code",
   "execution_count": 24,
   "id": "0ab4c077",
   "metadata": {},
   "outputs": [],
   "source": [
    "Matrix1 = [\"Day\", [23, 45], \"Monday\", [[12, 13], [14, 15]]]\n",
    "print(Matrix1)"
   ]
  },
  {
   "cell_type": "code",
   "execution_count": 26,
   "id": "78a335f3",
   "metadata": {},
   "outputs": [
    {
     "name": "stdout",
     "output_type": "stream",
     "text": [
      "Printing Monday: Monday\n"
     ]
    }
   ],
   "source": [
    "print(f\"Printing Monday: {Matrix1[2]}\")"
   ]
  },
  {
   "cell_type": "code",
   "execution_count": 27,
   "id": "de991732",
   "metadata": {},
   "outputs": [
    {
     "name": "stdout",
     "output_type": "stream",
     "text": [
      "Printing 13: 13\n"
     ]
    }
   ],
   "source": [
    "print(f\"Printing 13: {Matrix1[3][0][1]}\")"
   ]
  },
  {
   "cell_type": "code",
   "execution_count": 30,
   "id": "2cfbb5d2",
   "metadata": {},
   "outputs": [
    {
     "name": "stdout",
     "output_type": "stream",
     "text": [
      "Printing 15: 15\n"
     ]
    }
   ],
   "source": [
    "print(f\"Printing 15: {Matrix1[3][1][1]}\")"
   ]
  },
  {
   "cell_type": "code",
   "execution_count": 31,
   "id": "6daab9b0",
   "metadata": {},
   "outputs": [
    {
     "name": "stdout",
     "output_type": "stream",
     "text": [
      "Printing 45: 45\n"
     ]
    }
   ],
   "source": [
    "print(f\"Printing 45: {Matrix1[1][1]}\")"
   ]
  },
  {
   "cell_type": "code",
   "execution_count": 33,
   "id": "5fbc197c",
   "metadata": {},
   "outputs": [
    {
     "name": "stdout",
     "output_type": "stream",
     "text": [
      "Printing Day: Day\n"
     ]
    }
   ],
   "source": [
    "print(f\"Printing Day: {Matrix1[0]}\")"
   ]
  }
 ],
 "metadata": {
  "kernelspec": {
   "display_name": "Python 3 (ipykernel)",
   "language": "python",
   "name": "python3"
  },
  "language_info": {
   "codemirror_mode": {
    "name": "ipython",
    "version": 3
   },
   "file_extension": ".py",
   "mimetype": "text/x-python",
   "name": "python",
   "nbconvert_exporter": "python",
   "pygments_lexer": "ipython3",
   "version": "3.11.4"
  }
 },
 "nbformat": 4,
 "nbformat_minor": 5
}
