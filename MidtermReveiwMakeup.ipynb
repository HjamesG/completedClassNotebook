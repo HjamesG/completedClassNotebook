{
 "cells": [
  {
   "cell_type": "markdown",
   "id": "ce5a6626",
   "metadata": {},
   "source": [
    "### 1. Create a list of 10 numbers and find out the minimum, maximum, and total (sum) of the list. "
   ]
  },
  {
   "cell_type": "code",
   "execution_count": 3,
   "id": "c55f0721",
   "metadata": {},
   "outputs": [
    {
     "name": "stdout",
     "output_type": "stream",
     "text": [
      "The minimum of the list is 1\n",
      "The maximum of the list is 10\n",
      "The sum of the list is 55\n"
     ]
    }
   ],
   "source": [
    "nums = [1,2,3,4,5,6,7,8,9,10]\n",
    "\n",
    "print(f\"The minimum of the list is {min(nums)}\")\n",
    "print(f\"The maximum of the list is {max(nums)}\")\n",
    "print(f\"The sum of the list is {sum(nums)}\")"
   ]
  },
  {
   "cell_type": "markdown",
   "id": "1f0d5b87",
   "metadata": {},
   "source": [
    "### 2. What is a nested If statement? Get input from a user and check whether the number is odd or not. If the number is odd it is also less than or equal to 20. If not, then print relevant information.\n",
    "\n"
   ]
  },
  {
   "cell_type": "code",
   "execution_count": 17,
   "id": "c7d2bd7a",
   "metadata": {},
   "outputs": [
    {
     "name": "stdout",
     "output_type": "stream",
     "text": [
      "Enter a number: 21\n",
      "The number is odd and greater than 20\n"
     ]
    }
   ],
   "source": [
    "num = int(input(\"Enter a number: \"))\n",
    "\n",
    "if (num%2) == 1:\n",
    "    if num <= 20:\n",
    "        print(\"The number is odd and less than or equal to 20\")\n",
    "    else:\n",
    "        print(\"The number is odd and greater than 20\")\n",
    "else:\n",
    "    print(\"The number is even\")"
   ]
  },
  {
   "cell_type": "markdown",
   "id": "95bdfaf9",
   "metadata": {},
   "source": [
    "### 3. Get a user input of an integer number and check if the given number is a multiple of 11 or not. "
   ]
  },
  {
   "cell_type": "code",
   "execution_count": 7,
   "id": "662f7549",
   "metadata": {},
   "outputs": [
    {
     "name": "stdout",
     "output_type": "stream",
     "text": [
      "Enter a number: 456\n",
      "The number isn't a multiple of eleven\n"
     ]
    }
   ],
   "source": [
    "num = int(input(\"Enter a number: \"))\n",
    "\n",
    "if num % 11 == 0:\n",
    "    print(\"The number is a multiple of eleven\")\n",
    "else:\n",
    "    print(\"The number isn't a multiple of eleven\")"
   ]
  },
  {
   "cell_type": "markdown",
   "id": "4f6bdcea",
   "metadata": {},
   "source": [
    "### 5. In the United States, as of 1995, a minor is generally legally defined as a person under the age of 18. Write a code to check whether a student is a minor or not where the input will be given by users."
   ]
  },
  {
   "cell_type": "code",
   "execution_count": 13,
   "id": "838e3ca1",
   "metadata": {},
   "outputs": [
    {
     "name": "stdout",
     "output_type": "stream",
     "text": [
      "Enter your age: 18\n",
      "You are an adult.\n"
     ]
    }
   ],
   "source": [
    "age = int(input(\"Enter your age: \"))\n",
    "\n",
    "if age >= 18:\n",
    "    print(\"You are an adult.\")\n",
    "else:\n",
    "    print(\"You are a minor.\")"
   ]
  },
  {
   "cell_type": "markdown",
   "id": "5f621908",
   "metadata": {},
   "source": [
    "### 8. Write down a program using a for loop that prints all numbers from 1 to 15 and adds them to a list called numbers_list. \n",
    "#### numbers_list=[1,2,3,4,...15]"
   ]
  },
  {
   "cell_type": "code",
   "execution_count": 14,
   "id": "62faf1e0",
   "metadata": {},
   "outputs": [
    {
     "name": "stdout",
     "output_type": "stream",
     "text": [
      "1\n",
      "2\n",
      "3\n",
      "4\n",
      "5\n",
      "6\n",
      "7\n",
      "8\n",
      "9\n",
      "10\n",
      "11\n",
      "12\n",
      "13\n",
      "14\n",
      "15\n",
      "[1, 2, 3, 4, 5, 6, 7, 8, 9, 10, 11, 12, 13, 14, 15]\n"
     ]
    }
   ],
   "source": [
    "numbers_list = []\n",
    "\n",
    "for i in range(1,16):\n",
    "    print(i)\n",
    "    numbers_list.append(i)\n",
    "    \n",
    "print(numbers_list)"
   ]
  },
  {
   "cell_type": "code",
   "execution_count": null,
   "id": "04579910",
   "metadata": {},
   "outputs": [],
   "source": []
  }
 ],
 "metadata": {
  "kernelspec": {
   "display_name": "Python 3 (ipykernel)",
   "language": "python",
   "name": "python3"
  },
  "language_info": {
   "codemirror_mode": {
    "name": "ipython",
    "version": 3
   },
   "file_extension": ".py",
   "mimetype": "text/x-python",
   "name": "python",
   "nbconvert_exporter": "python",
   "pygments_lexer": "ipython3",
   "version": "3.11.4"
  }
 },
 "nbformat": 4,
 "nbformat_minor": 5
}
